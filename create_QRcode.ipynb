{
 "cells": [
  {
   "cell_type": "code",
   "execution_count": 2,
   "id": "1cf17aef",
   "metadata": {},
   "outputs": [],
   "source": [
    "import qrcode"
   ]
  },
  {
   "cell_type": "code",
   "execution_count": null,
   "id": "cfc81d87",
   "metadata": {},
   "outputs": [],
   "source": [
    "# define the url that will be used for the QR code)\n",
    "data_url = \"This is just a text to replace\"   # replace the text with the real url\n",
    "\n",
    "# the color and the resolution of the QR code can be customized\n",
    "# use the corresponding arguments for this purpose\n",
    "# the default color is black, and the default resolution is 20 pixels"
   ]
  },
  {
   "cell_type": "code",
   "execution_count": null,
   "id": "54ddb1fb",
   "metadata": {},
   "outputs": [],
   "source": [
    "# function to create the QR code\n",
    "def create_QRcode(data_url, color = \"black\", res = 20):"
   ]
  }
 ],
 "metadata": {
  "kernelspec": {
   "display_name": "Python 3",
   "language": "python",
   "name": "python3"
  },
  "language_info": {
   "codemirror_mode": {
    "name": "ipython",
    "version": 3
   },
   "file_extension": ".py",
   "mimetype": "text/x-python",
   "name": "python",
   "nbconvert_exporter": "python",
   "pygments_lexer": "ipython3",
   "version": "3.11.4"
  }
 },
 "nbformat": 4,
 "nbformat_minor": 5
}
