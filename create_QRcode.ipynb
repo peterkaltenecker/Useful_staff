{
 "cells": [
  {
   "cell_type": "code",
   "execution_count": 37,
   "id": "1cf17aef",
   "metadata": {},
   "outputs": [],
   "source": [
    "import qrcode"
   ]
  },
  {
   "cell_type": "code",
   "execution_count": 38,
   "id": "cfc81d87",
   "metadata": {},
   "outputs": [],
   "source": [
    "# define the url that will be used for the QR code)\n",
    "data_url = \"This is just some text to replace.\"   # replace the text with the real url"
   ]
  },
  {
   "cell_type": "code",
   "execution_count": 39,
   "id": "54ddb1fb",
   "metadata": {},
   "outputs": [],
   "source": [
    "# function to create the QR code\n",
    "def create_QRcode(data_url, QR_color = \"black\", res = 20):\n",
    "    # use the QRCode class to define settings\n",
    "    qr = qrcode.QRCode(\n",
    "    version = 1,\n",
    "    error_correction = qrcode.constants.ERROR_CORRECT_L,\n",
    "    box_size = res,\n",
    "    border = 3,\n",
    "    )\n",
    "\n",
    "    # add the url to the QR code\n",
    "    qr.add_data(data_url)\n",
    "\n",
    "    # generate the QR code and its visual\n",
    "    qr.make(fit = True)\n",
    "    img = qr.make_image(fill_color = QR_color, back_color = \"white\").convert('RGB')\n",
    "\n",
    "    # save the QR code to the local environment\n",
    "    img.save(\"myQRcode.png\")"
   ]
  },
  {
   "cell_type": "code",
   "execution_count": 40,
   "id": "074e80c6",
   "metadata": {},
   "outputs": [],
   "source": [
    "# the color and the resolution of the QR code can be customized\n",
    "# use the corresponding arguments of the function below for this purpose\n",
    "\n",
    "# QR_color: the default color is black\n",
    "# other colors can be used by color name or hexadecimal code as a string, e.g. \"cyan\" or \"#39f7f4\"\n",
    "# or by RGB values in brackets, e.g. (57, 247, 244)\n",
    "\n",
    "# res: the default resolution is 20 pixels (number of pixels per each \"box\" of the QR code)"
   ]
  },
  {
   "cell_type": "code",
   "execution_count": 41,
   "id": "21e53ffd",
   "metadata": {},
   "outputs": [],
   "source": [
    "create_QRcode(data_url)"
   ]
  }
 ],
 "metadata": {
  "kernelspec": {
   "display_name": "Python 3",
   "language": "python",
   "name": "python3"
  },
  "language_info": {
   "codemirror_mode": {
    "name": "ipython",
    "version": 3
   },
   "file_extension": ".py",
   "mimetype": "text/x-python",
   "name": "python",
   "nbconvert_exporter": "python",
   "pygments_lexer": "ipython3",
   "version": "3.11.4"
  }
 },
 "nbformat": 4,
 "nbformat_minor": 5
}
