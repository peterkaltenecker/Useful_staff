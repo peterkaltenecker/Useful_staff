{
 "cells": [
  {
   "cell_type": "code",
   "execution_count": 2,
   "id": "1cf17aef",
   "metadata": {},
   "outputs": [],
   "source": [
    "import qrcode"
   ]
  },
  {
   "cell_type": "code",
   "execution_count": null,
   "id": "cfc81d87",
   "metadata": {},
   "outputs": [],
   "source": [
    "# define the url that will be used for the QR code)\n",
    "data_url = \"This is just a text to replace\"   # replace the text with the real url\n",
    "\n",
    "# the color and the resolution of the QR code can be customized\n",
    "# use the corresponding arguments of the function below for this purpose\n",
    "\n",
    "# the default color is black\n",
    "# other colors can be used by color names or hexadecimal code as a string, e.g. \"cyan\" or \"#39f7f4\"\n",
    "# or by RGB values in brackets, e.g. (57, 247, 244)\n",
    "\n",
    "# the default resolution is 20 pixels (number of pixels per each \"box\" of the QR code)"
   ]
  },
  {
   "cell_type": "code",
   "execution_count": null,
   "id": "54ddb1fb",
   "metadata": {},
   "outputs": [],
   "source": [
    "# function to create the QR code\n",
    "def create_QRcode(data_url, color = \"black\", res = 20):\n",
    "    qr = qrcode.QRCode(\n",
    "    version=1,\n",
    "    error_correction=qrcode.constants.ERROR_CORRECT_L,\n",
    "    box_size=20,\n",
    "    border=3,\n",
    "    )\n",
    "    qr.add_data(data_url)\n",
    "    qr.make(fit=True)\n",
    "\n",
    "img = qr.make_image(fill_color=color, back_color=\"white\").convert('RGB')"
   ]
  }
 ],
 "metadata": {
  "kernelspec": {
   "display_name": "Python 3",
   "language": "python",
   "name": "python3"
  },
  "language_info": {
   "codemirror_mode": {
    "name": "ipython",
    "version": 3
   },
   "file_extension": ".py",
   "mimetype": "text/x-python",
   "name": "python",
   "nbconvert_exporter": "python",
   "pygments_lexer": "ipython3",
   "version": "3.11.4"
  }
 },
 "nbformat": 4,
 "nbformat_minor": 5
}
